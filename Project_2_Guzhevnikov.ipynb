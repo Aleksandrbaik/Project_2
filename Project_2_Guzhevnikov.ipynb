{
  "cells": [
    {
      "attachments": {},
      "cell_type": "markdown",
      "id": "42289889-bd57-434e-9637-d3e354756316",
      "metadata": {
        "id": "42289889-bd57-434e-9637-d3e354756316"
      },
      "source": [
        "<center> <img src = https://raw.githubusercontent.com/AndreyRysistov/DatasetsForPandas/main/hh%20label.jpg alt=\"drawing\" style=\"width:400px;\">"
      ]
    },
    {
      "attachments": {},
      "cell_type": "markdown",
      "id": "829cb75b-f14e-4ba8-9195-7ba929a7d656",
      "metadata": {
        "id": "829cb75b-f14e-4ba8-9195-7ba929a7d656",
        "tags": []
      },
      "source": [
        "# <center> Проект: Анализ вакансий из HeadHunter\n",
        "   "
      ]
    },
    {
      "cell_type": "code",
      "execution_count": null,
      "id": "dccfde33-2452-43fb-a8a5-5c6ebc02a71d",
      "metadata": {
        "id": "dccfde33-2452-43fb-a8a5-5c6ebc02a71d"
      },
      "outputs": [],
      "source": [
        "import pandas as pd\n",
        "import psycopg2"
      ]
    },
    {
      "cell_type": "code",
      "execution_count": null,
      "id": "oVKH4ehvf8Ay",
      "metadata": {
        "id": "oVKH4ehvf8Ay"
      },
      "outputs": [],
      "source": [
        "# вставьте сюда параметры подключения из юнита 1. Работа с базой данных из Python \n",
        "DBNAME = 'project_sql'\n",
        "USER = 'skillfactory'\n",
        "PASSWORD = 'cCkxxLVrDE8EbvjueeMedPKt'\n",
        "HOST = '84.201.134.129'\n",
        "PORT = 5432"
      ]
    },
    {
      "cell_type": "code",
      "execution_count": null,
      "id": "G4X_q8KBf7SF",
      "metadata": {
        "id": "G4X_q8KBf7SF"
      },
      "outputs": [],
      "source": [
        "connection = psycopg2.connect(\n",
        "    dbname=DBNAME,\n",
        "    user=USER,\n",
        "    host=HOST,\n",
        "    password=PASSWORD,\n",
        "    port=PORT\n",
        ")"
      ]
    },
    {
      "attachments": {},
      "cell_type": "markdown",
      "id": "0dc6476b-7a00-44f1-ac93-6e3baed33a29",
      "metadata": {
        "id": "0dc6476b-7a00-44f1-ac93-6e3baed33a29"
      },
      "source": [
        "# Юнит 3. Предварительный анализ данных"
      ]
    },
    {
      "attachments": {},
      "cell_type": "markdown",
      "id": "889782b6-8d1c-410e-8920-e57f27917c64",
      "metadata": {
        "id": "889782b6-8d1c-410e-8920-e57f27917c64"
      },
      "source": [
        "1. Напишите запрос, который посчитает количество вакансий в нашей базе (вакансии находятся в таблице vacancies). "
      ]
    },
    {
      "cell_type": "code",
      "execution_count": null,
      "id": "bc39e68e-ed02-4ee2-9235-7258a2f867a8",
      "metadata": {
        "id": "bc39e68e-ed02-4ee2-9235-7258a2f867a8"
      },
      "outputs": [],
      "source": [
        "# для удобства будем проставлять нумерацию в названии переменных, для соотнесения к какому заданию относится запрос\n",
        "query_3_1 = f'''\n",
        "    SELECT count(*)\n",
        "    from vacancies v\n",
        "'''"
      ]
    },
    {
      "cell_type": "code",
      "execution_count": null,
      "id": "7mAwtsk4hEHY",
      "metadata": {
        "id": "7mAwtsk4hEHY"
      },
      "outputs": [],
      "source": [
        "# для удобства будем брать данные из полученного DF с подписью\n",
        "display(f'Вакансий в базе: {int(pd.read_sql_query(query_3_1, connection).iloc[0])}')"
      ]
    },
    {
      "attachments": {},
      "cell_type": "markdown",
      "id": "b583485d-1f9e-494e-ada4-80ffff7c53d6",
      "metadata": {
        "id": "b583485d-1f9e-494e-ada4-80ffff7c53d6"
      },
      "source": [
        "2. Напишите запрос, который посчитает количество работодателей (таблица employers). "
      ]
    },
    {
      "cell_type": "code",
      "execution_count": null,
      "id": "5408c52c-3407-4a63-b25b-1aafa2322d28",
      "metadata": {
        "id": "5408c52c-3407-4a63-b25b-1aafa2322d28"
      },
      "outputs": [],
      "source": [
        "# общие данные можно получить по размеру таблицы (количеству записей в ней)\n",
        "query_3_2 = f'''\n",
        "    SELECT count(*)\n",
        "    from EMPLOYERS\n",
        "'''"
      ]
    },
    {
      "cell_type": "code",
      "execution_count": null,
      "id": "jVL4eshKhdqc",
      "metadata": {
        "id": "jVL4eshKhdqc"
      },
      "outputs": [],
      "source": [
        "display(f'Работодателей в базе: {int(pd.read_sql_query(query_3_2, connection).iloc[0])}')"
      ]
    },
    {
      "attachments": {},
      "cell_type": "markdown",
      "id": "a2bfff1f-c975-4bf6-84be-2185d79dcb76",
      "metadata": {
        "id": "a2bfff1f-c975-4bf6-84be-2185d79dcb76"
      },
      "source": [
        "3. Посчитате с помощью запроса количество регионов (таблица areas)."
      ]
    },
    {
      "cell_type": "code",
      "execution_count": null,
      "id": "1m8QJwBYhey6",
      "metadata": {
        "id": "1m8QJwBYhey6"
      },
      "outputs": [],
      "source": [
        "# общие данные можно получить по размеру таблицы (количеству записей в ней)\n",
        "query_3_3 = f'''\n",
        "    SELECT count(*)\n",
        "    from AREAS\n",
        "'''"
      ]
    },
    {
      "cell_type": "code",
      "execution_count": null,
      "id": "EZsn9tlfhe7f",
      "metadata": {
        "id": "EZsn9tlfhe7f"
      },
      "outputs": [],
      "source": [
        "display(f'Регионов в базе: {int(pd.read_sql_query(query_3_3, connection).iloc[0])}')"
      ]
    },
    {
      "attachments": {},
      "cell_type": "markdown",
      "id": "41bb59f3-53cc-4a67-a5bc-bedf573955e4",
      "metadata": {
        "id": "41bb59f3-53cc-4a67-a5bc-bedf573955e4"
      },
      "source": [
        "4. Посчитате с помощью запроса количество сфер деятельности в базе (таблица industries)."
      ]
    },
    {
      "cell_type": "code",
      "execution_count": null,
      "id": "d286cf4c-707b-4cd2-9190-7ab3587d04a1",
      "metadata": {
        "id": "d286cf4c-707b-4cd2-9190-7ab3587d04a1"
      },
      "outputs": [],
      "source": [
        "#общие данные можно получить по размеру таблицы (количеству записей в ней)\n",
        "query_3_4 = f'''\n",
        "    SELECT count(*)\n",
        "    from INDUSTRIES\n",
        "'''"
      ]
    },
    {
      "cell_type": "code",
      "execution_count": null,
      "id": "JYAaoZ4qhfzW",
      "metadata": {
        "id": "JYAaoZ4qhfzW"
      },
      "outputs": [],
      "source": [
        "display(f'Сфер деятельности в базе: {int(pd.read_sql_query(query_3_4, connection).iloc[0])}')"
      ]
    },
    {
      "attachments": {},
      "cell_type": "markdown",
      "id": "9a8a2181-6914-448b-85f1-38f5f18b8a93",
      "metadata": {
        "id": "9a8a2181-6914-448b-85f1-38f5f18b8a93"
      },
      "source": [
        "***"
      ]
    },
    {
      "attachments": {},
      "cell_type": "markdown",
      "id": "15b671ae",
      "metadata": {},
      "source": [
        "Вывод:\n",
        "Удалось подключиться к БД, удалось узнать размерность записей:\n",
        "\n",
        "Вакансий в базе: 49197\n",
        "Работодателей в базе: 23501\n",
        "Регионов в базе: 1362\n",
        "Сфер деятельности в базе: 294"
      ]
    },
    {
      "attachments": {},
      "cell_type": "markdown",
      "id": "8d62a9f3-f64e-4fe7-bdac-c4dffa16155e",
      "metadata": {
        "id": "8d62a9f3-f64e-4fe7-bdac-c4dffa16155e"
      },
      "source": [
        "# Юнит 4. Детальный анализ вакансий"
      ]
    },
    {
      "attachments": {},
      "cell_type": "markdown",
      "id": "93053d3d-b284-481a-9cf7-012d7014c0e0",
      "metadata": {
        "id": "93053d3d-b284-481a-9cf7-012d7014c0e0"
      },
      "source": [
        "1. Напишите запрос, который позволит узнать, сколько (cnt) вакансий в каждом регионе (area).\n",
        "Отсортируйте по количеству вакансий в порядке убывания."
      ]
    },
    {
      "cell_type": "code",
      "execution_count": null,
      "id": "3f069da6-fdc9-4ae7-b514-fafe2675efd3",
      "metadata": {
        "id": "3f069da6-fdc9-4ae7-b514-fafe2675efd3"
      },
      "outputs": [],
      "source": [
        "# установил LIMIT т.к. для ответа в тестировании необходимо только ТОП-5 регионов\n",
        "query_4_1 = f'''\n",
        "    SELECT \n",
        "    a.name, \n",
        "    count(v.id)\n",
        "    from areas a\n",
        "    join vacancies v on a.id = v.area_id\n",
        "    group by a.id\n",
        "    order by 2 desc\n",
        "    limit 5\n",
        "'''"
      ]
    },
    {
      "cell_type": "code",
      "execution_count": null,
      "id": "P7QL86hrjhRJ",
      "metadata": {
        "id": "P7QL86hrjhRJ"
      },
      "outputs": [],
      "source": [
        "aw_4_1 = pd.read_sql_query(query_4_1, connection)\n",
        "display(f'Вакансий в ТОП-5 регионов:')\n",
        "aw_4_1"
      ]
    },
    {
      "attachments": {},
      "cell_type": "markdown",
      "id": "4266f0b6-1646-492a-88b4-2f6a46502135",
      "metadata": {
        "id": "4266f0b6-1646-492a-88b4-2f6a46502135"
      },
      "source": [
        "2. Напишите запрос, чтобы определить у какого количества вакансий заполнено хотя бы одно из двух полей с зарплатой."
      ]
    },
    {
      "cell_type": "code",
      "execution_count": null,
      "id": "0c44b350-72eb-4d65-8b54-a1fc449ba9fd",
      "metadata": {
        "id": "0c44b350-72eb-4d65-8b54-a1fc449ba9fd"
      },
      "outputs": [],
      "source": [
        "# ввводим уловия: отсуствие пустого значения\n",
        "query_4_2 = f'''\n",
        "    SELECT \n",
        "   count(*)\n",
        "    FROM VACANCIES v\n",
        "    WHERE salary_from IS NOT NULL or salary_to IS NOT NULL\n",
        "    \n",
        "'''"
      ]
    },
    {
      "cell_type": "code",
      "execution_count": null,
      "id": "rhvwaMDkoWTi",
      "metadata": {
        "id": "rhvwaMDkoWTi"
      },
      "outputs": [],
      "source": [
        "display(f'Количество вакансий, где заполнено хотя бы одно из двух полей с зарплатой: {int(pd.read_sql_query(query_4_2, connection).iloc[0])}')"
      ]
    },
    {
      "attachments": {},
      "cell_type": "markdown",
      "id": "635c4d5d-f323-4c66-b428-50a088120aa0",
      "metadata": {
        "id": "635c4d5d-f323-4c66-b428-50a088120aa0"
      },
      "source": [
        "3. Найдите средние значения для нижней и верхней границы зарплатной вилки. Округлите значения до целого."
      ]
    },
    {
      "cell_type": "code",
      "execution_count": null,
      "id": "603cdbe4-0ec3-4106-8eaf-c73fcdd29165",
      "metadata": {
        "id": "603cdbe4-0ec3-4106-8eaf-c73fcdd29165"
      },
      "outputs": [],
      "source": [
        "# выводим среднее значение по интересуемым столбцам\n",
        "query_4_3 = f'''\n",
        "    SELECT \n",
        "   round(AVG(salary_from)) AVG_from, \n",
        "   round(AVG(salary_to)) AVF_To\n",
        "    FROM VACANCIES\n",
        "    '''"
      ]
    },
    {
      "cell_type": "code",
      "execution_count": null,
      "id": "pswpAb66ovZZ",
      "metadata": {
        "id": "pswpAb66ovZZ"
      },
      "outputs": [],
      "source": [
        "aw_4_3 = pd.read_sql_query(query_4_3, connection)\n",
        "display('Cредние значения для нижней и верхней границы зарплатной вилки')\n",
        "aw_4_3\n"
      ]
    },
    {
      "attachments": {},
      "cell_type": "markdown",
      "id": "f3fdaec9-5fd3-4260-9cf5-1d7406b628a5",
      "metadata": {
        "id": "f3fdaec9-5fd3-4260-9cf5-1d7406b628a5"
      },
      "source": [
        "4. Напишите запрос, который выведет количество вакансий для каждого сочетания типа рабочего графика (schedule) и типа трудоустройства (employment), используемого в вакансиях. Результат отсортируйте по убыванию количества.\n"
      ]
    },
    {
      "cell_type": "code",
      "execution_count": null,
      "id": "1ea710ec-871b-431e-9462-c7d0fd87011b",
      "metadata": {
        "id": "1ea710ec-871b-431e-9462-c7d0fd87011b"
      },
      "outputs": [],
      "source": [
        "# установил связку OFFSET и LIMIT для получения второго значения (вопрос теста), если нужен полный спиок - связку следует убрать\n",
        "query_4_4 = f'''\n",
        "    SELECT \n",
        "        schedule,\n",
        "        employment, \n",
        "        count(*)\n",
        "    FROM VACANCIES v\n",
        "    GROUP BY 1, 2 \n",
        "    ORDER BY 3 DESC\n",
        "    OFFSET 1\n",
        "    LIMIT 1\n",
        "'''"
      ]
    },
    {
      "cell_type": "code",
      "execution_count": null,
      "id": "lGUVqavdo4JQ",
      "metadata": {
        "id": "lGUVqavdo4JQ"
      },
      "outputs": [],
      "source": [
        "aw_4_4 = pd.read_sql_query(query_4_4, connection)\n",
        "display('Вторя пара по количеству ваканчий по графику и типу:')\n",
        "aw_4_4.iloc[0]"
      ]
    },
    {
      "attachments": {},
      "cell_type": "markdown",
      "id": "0136ffee-0ead-4a6b-b608-61d1c753a438",
      "metadata": {
        "id": "0136ffee-0ead-4a6b-b608-61d1c753a438"
      },
      "source": [
        "5. Напишите запрос, выводящий значения поля Требуемый опыт работы (experience) в порядке возрастания количества вакансий, в которых указан данный вариант опыта. "
      ]
    },
    {
      "cell_type": "code",
      "execution_count": null,
      "id": "5b3a8e79-f7ab-4008-b767-12aea3a205ea",
      "metadata": {
        "id": "5b3a8e79-f7ab-4008-b767-12aea3a205ea"
      },
      "outputs": [],
      "source": [
        "# считаем общее количество записей с группировкой по опыту\n",
        "query_4_5 = f'''\n",
        "    SELECT \n",
        "        experience,\n",
        "        count(*)\n",
        "    FROM VACANCIES \n",
        "    GROUP BY 1\n",
        "    ORDER BY 2 ASC\n",
        "    '''"
      ]
    },
    {
      "cell_type": "code",
      "execution_count": null,
      "id": "3Is64Y-hpDpq",
      "metadata": {
        "id": "3Is64Y-hpDpq"
      },
      "outputs": [],
      "source": [
        "aw_4_5 = pd.read_sql_query(query_4_5, connection)\n",
        "display('Требуемый опыт работы в порядке убывания количества вакансий')\n",
        "display(aw_4_5)"
      ]
    },
    {
      "attachments": {},
      "cell_type": "markdown",
      "id": "oq2b7n1QpIka",
      "metadata": {
        "id": "oq2b7n1QpIka"
      },
      "source": [
        "***"
      ]
    },
    {
      "attachments": {},
      "cell_type": "markdown",
      "id": "37cd8b84",
      "metadata": {},
      "source": [
        "# Вывод:\n",
        "- в ходе расчетов выяснилось, что самое большое количество вакансий в самых больших городах; \n",
        "- нашли средние значения верхней границы зарплатных вилок, которое составляет 110537.0;\n",
        "- удалось выяснить, что самая востребованный вид работы - это удаленный при полной занятости, а также требования к стажу самые высокие - минимум 1 год;\n",
        "- также есть вакансии для людей без опыта."
      ]
    },
    {
      "attachments": {},
      "cell_type": "markdown",
      "id": "7ea20ab6-04a7-40a0-adec-443a0e5a42c3",
      "metadata": {
        "id": "7ea20ab6-04a7-40a0-adec-443a0e5a42c3"
      },
      "source": [
        "# Юнит 5. Анализ работодателей"
      ]
    },
    {
      "attachments": {},
      "cell_type": "markdown",
      "id": "968aed80-74ef-4ffb-b5bf-c65b84e9caea",
      "metadata": {
        "id": "968aed80-74ef-4ffb-b5bf-c65b84e9caea"
      },
      "source": [
        "1. Напишите запрос, который позволит узнать, какие работодатели находятся на первом и пятом месте по количеству вакансий."
      ]
    },
    {
      "cell_type": "code",
      "execution_count": null,
      "id": "f2d62796-d400-4ec1-a675-88112739a50e",
      "metadata": {
        "id": "f2d62796-d400-4ec1-a675-88112739a50e"
      },
      "outputs": [],
      "source": [
        "#  для получения опыта подтянем через inner наименования работодателей, ограничим через LIMIT интересующий диапазон (для теста 1 и 5 место)\n",
        "query_5_1 = f'''\n",
        "    SELECT \n",
        "        e.name,\n",
        "        count(v.id)\n",
        "    FROM VACANCIES v\n",
        "    JOIN EMPLOYERS e ON v.employer_id = e.id\n",
        "    GROUP BY 1\n",
        "    ORDER BY 2 DESC\n",
        "    LIMIT 5\n",
        "'''"
      ]
    },
    {
      "cell_type": "code",
      "execution_count": null,
      "id": "64tOMkAxqkQk",
      "metadata": {
        "id": "64tOMkAxqkQk"
      },
      "outputs": [],
      "source": [
        "aw = pd.read_sql_query(query_5_1, connection)\n",
        "display(f'Первое место: {aw.iloc[0][0]}')\n",
        "display(f'Пятое место: {aw.iloc[4][0]}')"
      ]
    },
    {
      "attachments": {},
      "cell_type": "markdown",
      "id": "68377cfc-b378-43dc-ab7d-1195abf2c515",
      "metadata": {
        "id": "68377cfc-b378-43dc-ab7d-1195abf2c515"
      },
      "source": [
        "2. Напишите запрос, который для каждого региона выведет количество работодателей и вакансий в нём.\n",
        "Среди регионов, в которых нет вакансий, найдите тот, в котором наибольшее количество работодателей.\n"
      ]
    },
    {
      "cell_type": "code",
      "execution_count": null,
      "id": "dd7df27a-e3e8-412e-a21a-5d389b71e891",
      "metadata": {
        "id": "dd7df27a-e3e8-412e-a21a-5d389b71e891"
      },
      "outputs": [],
      "source": [
        "# также ограничен вывод через LIMIT т.к. интересует 1я строка\n",
        "query_5_2 = f'''\n",
        "    SELECT \n",
        "\t    a.name,\n",
        "\t    count(distinct v.id) vac,\n",
        "\t    count(distinct e.id) emp\n",
        "    FROM AREAS a\n",
        "    LEFT JOIN VACANCIES v ON v.area_id = a.id\n",
        "    LEFT JOIN EMPLOYERS e ON e.area = a.id \n",
        "\tWHERE v.id is NULL\n",
        "\tGROUP BY 1\n",
        "\tORDER BY emp DESC\n",
        "\tLIMIT 1\n",
        " '''"
      ]
    },
    {
      "cell_type": "code",
      "execution_count": null,
      "id": "x1ikWbydrbf6",
      "metadata": {
        "id": "x1ikWbydrbf6"
      },
      "outputs": [],
      "source": [
        "aw = pd.read_sql_query(query_5_2, connection)\n",
        "display(f'Регион в котором больше всего работодателей, но нет вакансий: {aw.iloc[0][0]}')"
      ]
    },
    {
      "attachments": {},
      "cell_type": "markdown",
      "id": "f2fe0acb-ab1a-4e15-9326-2560e22d73c1",
      "metadata": {
        "id": "f2fe0acb-ab1a-4e15-9326-2560e22d73c1"
      },
      "source": [
        "3. Для каждого работодателя посчитайте количество регионов, в которых он публикует свои вакансии. Отсортируйте результат по убыванию количества.\n"
      ]
    },
    {
      "cell_type": "code",
      "execution_count": null,
      "id": "6271f8ad-bd2e-4196-ae4a-5b39c4c1010e",
      "metadata": {
        "id": "6271f8ad-bd2e-4196-ae4a-5b39c4c1010e"
      },
      "outputs": [],
      "source": [
        "# также ограничен вывод через LIMIT т.к. интересует 1я строка\n",
        "query_5_3 = f'''\n",
        "    SELECT \n",
        "\temployer_id,\n",
        "\tcount(distinct area_id) \n",
        "    FROM VACANCIES v\n",
        "\tGROUP BY 1\n",
        "\tORDER BY 2 DESC\n",
        "\tLIMIT 1 \n",
        "'''"
      ]
    },
    {
      "cell_type": "code",
      "execution_count": null,
      "id": "1EIvX3HasH4F",
      "metadata": {
        "id": "1EIvX3HasH4F"
      },
      "outputs": [],
      "source": [
        "aw = pd.read_sql_query(query_5_3, connection)\n",
        "display(f'Максимальное количество регионов одного работодателя: {aw.iloc[0][1]}')"
      ]
    },
    {
      "attachments": {},
      "cell_type": "markdown",
      "id": "eab2206d-d95b-468b-8e5f-34381abf0ce7",
      "metadata": {
        "id": "eab2206d-d95b-468b-8e5f-34381abf0ce7"
      },
      "source": [
        "4. Напишите запрос для подсчёта количества работодателей, у которых не указана сфера деятельности. "
      ]
    },
    {
      "cell_type": "code",
      "execution_count": null,
      "id": "80defb23-bfb1-4a18-8be6-bf36aa7165d5",
      "metadata": {
        "id": "80defb23-bfb1-4a18-8be6-bf36aa7165d5"
      },
      "outputs": [],
      "source": [
        "# для этого используем LEFT JOIN, он оставит проспуски в строках без совпадений, они будут маркером подсчета\n",
        "query_5_4 = f'''\n",
        "    SELECT \n",
        "        count(*)\n",
        "    FROM EMPLOYERS e\n",
        "    LEFT JOIN EMPLOYERS_INDUSTRIES ei on e.id = ei.employer_id\n",
        "    WHERE ei.industry_id is NULL\n",
        "'''"
      ]
    },
    {
      "cell_type": "code",
      "execution_count": null,
      "id": "Dp_yCx6ysQSu",
      "metadata": {
        "id": "Dp_yCx6ysQSu"
      },
      "outputs": [],
      "source": [
        "aw = pd.read_sql_query(query_5_4, connection)\n",
        "display(f'Количество работадателей, у которых не указана сфера деятельности. : {int(aw.iloc[0])}')"
      ]
    },
    {
      "attachments": {},
      "cell_type": "markdown",
      "id": "0112af31-f6b0-4e3b-82ab-71296e752e5e",
      "metadata": {
        "id": "0112af31-f6b0-4e3b-82ab-71296e752e5e"
      },
      "source": [
        "5. Напишите запрос, чтобы узнать название компании, находящейся на третьем месте в алфавитном списке (по названию) компаний, у которых указано четыре сферы деятельности. "
      ]
    },
    {
      "cell_type": "code",
      "execution_count": null,
      "id": "973b0cfc-a972-470a-8b4a-68744ef220c4",
      "metadata": {
        "id": "973b0cfc-a972-470a-8b4a-68744ef220c4"
      },
      "outputs": [],
      "source": [
        "# выводить будет только name т.к. для ответа нужно именно наименование без данных, все расчеты сделаем внутри запроса и ограничим вывод OFFSET - LIMIT. Если нужен будет полный список ограничение мождно убрать\n",
        "query_5_5 = f'''\n",
        "    SELECT \n",
        "\t\te.name\n",
        "    FROM EMPLOYERS e\n",
        "    LEFT JOIN EMPLOYERS_INDUSTRIES ei on e.id = ei.employer_id\n",
        "\tGROUP BY e.id\n",
        "    HAVING count(ei.industry_id) = 4\n",
        "\tORDER BY e.name\n",
        "\tOFFSET 2 \n",
        "\tLIMIT 1\n",
        "'''"
      ]
    },
    {
      "cell_type": "code",
      "execution_count": null,
      "id": "xsPtpp8EsaED",
      "metadata": {
        "id": "xsPtpp8EsaED"
      },
      "outputs": [],
      "source": [
        "aw = pd.read_sql_query(query_5_5, connection)\n",
        "display('Наименование компании : {}'.format(aw.iloc[0]['name']))"
      ]
    },
    {
      "attachments": {},
      "cell_type": "markdown",
      "id": "3bfcfdaf-755d-4d2b-8ed8-326201dc07ab",
      "metadata": {
        "id": "3bfcfdaf-755d-4d2b-8ed8-326201dc07ab"
      },
      "source": [
        "6. С помощью запроса выясните, у какого количества работодателей в качестве сферы деятельности указана Разработка программного обеспечения.\n"
      ]
    },
    {
      "cell_type": "code",
      "execution_count": null,
      "id": "ad3f270f-2991-47eb-929b-e8f88a55b0d1",
      "metadata": {
        "id": "ad3f270f-2991-47eb-929b-e8f88a55b0d1"
      },
      "outputs": [],
      "source": [
        "# подтягивать наименование работодателей через JOIN не стал, т.к. нужно только количество, для этого достаточно двух таблиц INDUSTRIES и EMPLOYERS_INDUSTRIES\n",
        "query_5_6 = f'''\n",
        "SELECT \n",
        "   \tcount(ei.employer_id) cnt\n",
        "FROM EMPLOYERS_INDUSTRIES ei\n",
        "JOIN INDUSTRIES i on i.id = ei.industry_id\n",
        "WHERE i.name = 'Разработка программного обеспечения'\n",
        "\n",
        "'''"
      ]
    },
    {
      "cell_type": "code",
      "execution_count": null,
      "id": "H72qxWM0shPR",
      "metadata": {
        "id": "H72qxWM0shPR"
      },
      "outputs": [],
      "source": [
        "aw = pd.read_sql_query(query_5_6, connection)\n",
        "display('Количество работодателей в качестве сферы деятельности указана «Разработка программного обеспечения».: {}'.format(int(aw.iloc[0])))"
      ]
    },
    {
      "attachments": {},
      "cell_type": "markdown",
      "id": "7b02bb86-0546-40fb-94a4-242f050a5c57",
      "metadata": {
        "id": "7b02bb86-0546-40fb-94a4-242f050a5c57"
      },
      "source": [
        "7. Для компании «Яндекс» выведите список регионов-миллионников, в которых представлены вакансии компании, вместе с количеством вакансий в этих регионах. Также добавьте строку Total с общим количеством вакансий компании. Результат отсортируйте по возрастанию количества.\n",
        "\n",
        "Список городов-милионников надо взять [отсюда](https://ru.wikipedia.org/wiki/%D0%93%D0%BE%D1%80%D0%BE%D0%B4%D0%B0-%D0%BC%D0%B8%D0%BB%D0%BB%D0%B8%D0%BE%D0%BD%D0%B5%D1%80%D1%8B_%D0%A0%D0%BE%D1%81%D1%81%D0%B8%D0%B8). \n",
        "\n",
        "Если возникнут трудности с этим задание посмотрите материалы модуля  PYTHON-17. Как получать данные из веб-источников и API. "
      ]
    },
    {
      "cell_type": "code",
      "execution_count": null,
      "id": "ZdfrL6gIs1Pn",
      "metadata": {
        "id": "ZdfrL6gIs1Pn"
      },
      "outputs": [],
      "source": [
        "import urllib.parse as req\n",
        "\n",
        "path_common = req.urlparse('https://ru.wikipedia.org/wiki/Города-миллионеры_России#Список_городов-миллионеров')\n",
        "url = path_common.scheme + '://' + req.quote(path_common.netloc) +  req.quote(path_common.path) + '#'+ req.quote(path_common.fragment)\n",
        "cities = tuple(pd.read_html(url)[0]['Город'])\n"
      ]
    },
    {
      "cell_type": "code",
      "execution_count": null,
      "id": "5a0e32a4-e68a-4365-8a39-2fe24c542c36",
      "metadata": {
        "id": "5a0e32a4-e68a-4365-8a39-2fe24c542c36"
      },
      "outputs": [],
      "source": [
        "# через f-строку подадим кортеж полученный при парсинге, т.к. код не сильно большой, добавим Total через union ALL и аналогичный запрос. только с подсчетом записей\n",
        "query_5_7 = f''' with temp AS\n",
        "(SELECT a.name,\n",
        "   \tcount(*) cnt\n",
        "FROM  VACANCIES v \n",
        "left JOIN EMPLOYERS e on e.id = v.employer_id\n",
        "left JOIN AREAS a on a.id = v.area_id\n",
        "WHERE e.name = 'Яндекс' and a.name in {cities}\n",
        "GROUP BY a.id\n",
        "order by 2)\n",
        "select * from temp\n",
        "UNION ALL\n",
        "\n",
        "SELECT 'Total',\n",
        "   \tsum(cnt)\n",
        "from temp\n",
        "'''"
      ]
    },
    {
      "cell_type": "code",
      "execution_count": null,
      "id": "ttPhiO1rsvPq",
      "metadata": {
        "id": "ttPhiO1rsvPq"
      },
      "outputs": [],
      "source": [
        "aw = pd.read_sql_query(query_5_7, connection)\n",
        "display('Сколько строк получилось в выборке: {}'.format(aw.shape[0]))\n",
        "display('Результат получился в строке Total: {}'.format(int(aw[aw['name'] == 'Total']['cnt'])))"
      ]
    },
    {
      "attachments": {},
      "cell_type": "markdown",
      "id": "04966e40-3bc3-4dc8-9ba2-e80580ce3abc",
      "metadata": {
        "id": "04966e40-3bc3-4dc8-9ba2-e80580ce3abc"
      },
      "source": [
        "***"
      ]
    },
    {
      "attachments": {},
      "cell_type": "markdown",
      "id": "1dd4666a",
      "metadata": {},
      "source": [
        "Вывод:\n",
        "- в ходе исследования мы узнали о ТОП-5 работодателях по количеству вакансий, это IT и нефтегазовое направление (Яндекс - Газпром нефть) \n",
        "- выявлен регион, где заявлены работодатели, но нет вакансий, с учетом, что это оказалась страна (Россия). \n",
        "- выявлено, что есть работодатели, которые указывают вакансии в большом количестве регионов, максимум 181!\n",
        "- выявлено, что 1/3 работодателей не указывает свою сферу деятельности, это не может быть связано с тем, что у работодателя несколько сфер, т.к. присутствуют работодатели, указавшие несколько сфер\n",
        "- также замечено, что около 20% работодателей указали \"Разработка программного обеспечения\", что свидетельствует о профессиональном голоде в этой сфере"
      ]
    },
    {
      "attachments": {},
      "cell_type": "markdown",
      "id": "b1ef156a-efcb-49ce-bb23-90763e7f35b2",
      "metadata": {
        "id": "b1ef156a-efcb-49ce-bb23-90763e7f35b2",
        "tags": []
      },
      "source": [
        "# Юнит 6. Предметный анализ"
      ]
    },
    {
      "attachments": {},
      "cell_type": "markdown",
      "id": "b9cd50a0-992d-4988-8463-2b2b1c4629b4",
      "metadata": {
        "id": "b9cd50a0-992d-4988-8463-2b2b1c4629b4"
      },
      "source": [
        "1. Сколько вакансий имеет отношение к данным?\n",
        "\n",
        "Считаем, что вакансия имеет отношение к данным, если в её названии содержатся слова 'data' или 'данн'.\n",
        "\n",
        "*Подсказка: Обратите внимание, что названия вакансий могут быть написаны в любом регистре.* \n"
      ]
    },
    {
      "cell_type": "code",
      "execution_count": null,
      "id": "54ab0e50-c0f1-47cc-a54b-bc5c8bc363f9",
      "metadata": {
        "id": "54ab0e50-c0f1-47cc-a54b-bc5c8bc363f9"
      },
      "outputs": [],
      "source": [
        "# используем ILIKE для игнорирования регистра\n",
        "query_6_1 = f'''\n",
        "SELECT \n",
        "   \tcount(*)\n",
        "FROM VACANCIES\n",
        "WHERE name ILIKE '%data%' or name ILIKE '%данн%'\n",
        "'''"
      ]
    },
    {
      "cell_type": "code",
      "execution_count": null,
      "id": "9F1meAqsuUjd",
      "metadata": {
        "id": "9F1meAqsuUjd"
      },
      "outputs": [],
      "source": [
        "aw = pd.read_sql_query(query_6_1, connection)\n",
        "display('Вакансий имеет отношение к данным: {}'.format(int(aw.iloc[0])))"
      ]
    },
    {
      "attachments": {},
      "cell_type": "markdown",
      "id": "4dea20cb-a36b-474a-a0b9-e08e8e3857a5",
      "metadata": {
        "id": "4dea20cb-a36b-474a-a0b9-e08e8e3857a5"
      },
      "source": [
        "2. Сколько есть подходящих вакансий для начинающего дата-сайентиста? \n",
        "Будем считать вакансиями для дата-сайентистов такие, в названии которых есть хотя бы одно из следующих сочетаний:\n",
        "* 'data scientist'\n",
        "* 'data science'\n",
        "* 'исследователь данных'\n",
        "* 'ML' (здесь не нужно брать вакансии по HTML)\n",
        "* 'machine learning'\n",
        "* 'машинн%обучен%'\n",
        "\n",
        "** В следующих заданиях мы продолжим работать с вакансиями по этому условию.*\n",
        "\n",
        "Считаем вакансиями для специалистов уровня Junior следующие:\n",
        "* в названии есть слово 'junior' *или*\n",
        "* требуемый опыт — Нет опыта *или*\n",
        "* тип трудоустройства — Стажировка.\n",
        " "
      ]
    },
    {
      "cell_type": "code",
      "execution_count": null,
      "id": "9c61b3c0-bb66-46c9-ae1e-81d3f5752b4a",
      "metadata": {
        "id": "9c61b3c0-bb66-46c9-ae1e-81d3f5752b4a"
      },
      "outputs": [],
      "source": [
        "# используем ILIKE для игнорирования регистра кроме ML и HTML, исключим возможность вхожждения символов в слова\n",
        "query_6_2 = f'''\n",
        "SELECT \n",
        "   \tcount(*)\n",
        "FROM VACANCIES\n",
        "WHERE \t(name ILIKE '%data scientist%' or \n",
        "\t\tname ILIKE '%data science%' or \n",
        "\t\tname ILIKE '%исследователь данных%' or \n",
        "\t\t(name LIKE '%ML%' and \n",
        "\t\tname NOT LIKE '%HTML%') or\n",
        "\t\tname ILIKE '%machine learning%' or \n",
        "\t\tname ILIKE '%машинн%обучен%')\n",
        "\t\tand\n",
        "\t\t(name ILIKE '%junior%' or\n",
        "\t\texperience ILIKE '%Нет опыта%' or\n",
        "\t\temployment ILIKE '%Стажировка%')\n",
        "'''"
      ]
    },
    {
      "cell_type": "code",
      "execution_count": null,
      "id": "ZNM-LLYuu1dj",
      "metadata": {
        "id": "ZNM-LLYuu1dj"
      },
      "outputs": [],
      "source": [
        "aw = pd.read_sql_query(query_6_2, connection)\n",
        "display('Количество вакансий: {}'.format(int(aw.iloc[0])))"
      ]
    },
    {
      "attachments": {},
      "cell_type": "markdown",
      "id": "eedceb80-c5ca-480e-b27a-278dfb8b4438",
      "metadata": {
        "id": "eedceb80-c5ca-480e-b27a-278dfb8b4438"
      },
      "source": [
        "3. Сколько есть вакансий для DS, в которых в качестве ключевого навыка указан SQL или postgres?\n",
        "\n",
        "** Критерии для отнесения вакансии к DS указаны в предыдущем задании.*"
      ]
    },
    {
      "cell_type": "code",
      "execution_count": null,
      "id": "69621713-0cc5-4f1b-a1d7-bb144fa6148c",
      "metadata": {
        "id": "69621713-0cc5-4f1b-a1d7-bb144fa6148c"
      },
      "outputs": [],
      "source": [
        "# аналогичный предыдущему, только уберем junior-фильтр и добавим ключевые навыки\n",
        "query_6_3 = f'''\n",
        "SELECT \n",
        "   \tcount(*)\n",
        "FROM VACANCIES\n",
        "WHERE \t(name ILIKE '%data scientist%' or \n",
        "\t\tname ILIKE '%data science%' or \n",
        "\t\tname ILIKE '%исследователь данных%' or \n",
        "\t\t(name LIKE '%ML%' and \n",
        "\t\tname NOT LIKE '%HTML%') or\n",
        "\t\tname ILIKE '%machine learning%' or \n",
        "\t\tname ILIKE '%машинн%обучен%')\n",
        "\t\tand\n",
        "\t\t(key_skills LIKE '%SQL%' or\n",
        "\t\tkey_skills LIKE '%postgres%')\n",
        "'''"
      ]
    },
    {
      "cell_type": "code",
      "execution_count": null,
      "id": "alA8WEAAvGdf",
      "metadata": {
        "id": "alA8WEAAvGdf"
      },
      "outputs": [],
      "source": [
        "aw = pd.read_sql_query(query_6_3, connection)\n",
        "display('Количество вакансий SQL: {}'.format(int(aw.iloc[0])))"
      ]
    },
    {
      "attachments": {},
      "cell_type": "markdown",
      "id": "cf47f87f",
      "metadata": {},
      "source": [
        " !!!! Примечание: на сайте курса ответ 201 не принимается. По совету ментора в пачке использовал ответ 229"
      ]
    },
    {
      "attachments": {},
      "cell_type": "markdown",
      "id": "1be1e9c6-37cf-4a5f-bfeb-04cab799dc80",
      "metadata": {
        "id": "1be1e9c6-37cf-4a5f-bfeb-04cab799dc80"
      },
      "source": [
        "4. Проверьте, насколько популярен Python в требованиях работодателей к DS.Для этого вычислите количество вакансий, в которых в качестве ключевого навыка указан Python.\n",
        "\n",
        "** Это можно сделать помощью запроса, аналогичного предыдущему.*"
      ]
    },
    {
      "cell_type": "code",
      "execution_count": null,
      "id": "0036a355-9ccf-4564-8b01-73d8194297e7",
      "metadata": {
        "id": "0036a355-9ccf-4564-8b01-73d8194297e7"
      },
      "outputs": [],
      "source": [
        "# аналогичный предыдущему, только изменим навык\n",
        "query_6_4 = f'''\n",
        "SELECT \n",
        "   \tcount(*)\n",
        "FROM VACANCIES\n",
        "WHERE \t(name ILIKE '%data scientist%' or \n",
        "\t\tname ILIKE '%data science%' or \n",
        "\t\tname ILIKE '%исследователь данных%' or \n",
        "\t\t(name LIKE '%ML%' and \n",
        "\t\tname NOT LIKE '%HTML%') or\n",
        "\t\tname ILIKE '%machine learning%' or \n",
        "\t\tname ILIKE '%машинн%обучен%')\n",
        "\t\tand\n",
        "\t\t(key_skills LIKE '%Python%')\n",
        "'''"
      ]
    },
    {
      "cell_type": "code",
      "execution_count": null,
      "id": "1i-5WyucvQ6v",
      "metadata": {
        "id": "1i-5WyucvQ6v"
      },
      "outputs": [],
      "source": [
        "aw_6_4 = pd.read_sql_query(query_6_4, connection)\n",
        "display('Количество вакансий для DS с Python: {}'.format(int(aw_6_4.iloc[0])))"
      ]
    },
    {
      "attachments": {},
      "cell_type": "markdown",
      "id": "11cebfd6",
      "metadata": {},
      "source": [
        "!!!! Примечание: на сайте курса ответ 351 не принимается. По совету ментора в пачке использовал ответ 357"
      ]
    },
    {
      "attachments": {},
      "cell_type": "markdown",
      "id": "ec3c8db7-fa21-4a41-a994-1af63742a642",
      "metadata": {
        "id": "ec3c8db7-fa21-4a41-a994-1af63742a642"
      },
      "source": [
        "5. Сколько ключевых навыков в среднем указывают в вакансиях для DS?\n",
        "Ответ округлите до двух знаков после точки-разделителя."
      ]
    },
    {
      "cell_type": "code",
      "execution_count": null,
      "id": "949132bc-d5b6-4611-8218-0b9a504d74f4",
      "metadata": {
        "id": "949132bc-d5b6-4611-8218-0b9a504d74f4"
      },
      "outputs": [],
      "source": [
        "# для определения количества, решил посчитать резделители. определим их количество как разницу символов с ними и без них. (добавил 1, т.к. разделителей всегда на 1 меньше, чем разделяемого)\n",
        "query_6_5 = f'''\n",
        "SELECT \n",
        "   \tround(avg(length(key_skills)-length(replace(key_skills, CHR(9), ''))+1), 2)\n",
        "FROM VACANCIES\n",
        "WHERE \t(name ILIKE '%data scientist%' or \n",
        "\t\tname ILIKE '%data science%' or \n",
        "\t\tname ILIKE '%исследователь данных%' or \n",
        "\t\t(name LIKE '%ML%' and \n",
        "\t\tname NOT LIKE '%HTML%') or\n",
        "\t\tname ILIKE '%machine learning%' or \n",
        "\t\tname ILIKE '%машинн%обучен%')\n",
        "'''"
      ]
    },
    {
      "cell_type": "code",
      "execution_count": null,
      "id": "a3V24Tvmviqk",
      "metadata": {
        "id": "a3V24Tvmviqk"
      },
      "outputs": [],
      "source": [
        "aw_6_5 = pd.read_sql_query(query_6_5, connection)\n",
        "display('Ключевых навыков в среднем указывают в вакансиях для DS: {}'.format(float(aw_6_5.iloc[0])))"
      ]
    },
    {
      "attachments": {},
      "cell_type": "markdown",
      "id": "1041c17a-ca8f-4543-a0ca-32778914fb00",
      "metadata": {
        "id": "1041c17a-ca8f-4543-a0ca-32778914fb00"
      },
      "source": [
        "6. Напишите запрос, позволяющий вычислить, какую зарплату для DS в **среднем** указывают для каждого типа требуемого опыта (уникальное значение из поля *experience*). \n",
        "\n",
        "При решении задачи примите во внимание следующее:\n",
        "1. Рассматриваем только вакансии, у которых заполнено хотя бы одно из двух полей с зарплатой.\n",
        "2. Если заполнены оба поля с зарплатой, то считаем зарплату по каждой вакансии как сумму двух полей, делённую на 2. Если заполнено только одно из полей, то его и считаем зарплатой по вакансии.\n",
        "3. Если в расчётах участвует null, в результате он тоже даст null (посмотрите, что возвращает запрос select 1 + null). Чтобы избежать этой ситуацию, мы воспользуемся функцией [coalesce](https://postgrespro.ru/docs/postgresql/9.5/functions-conditional#functions-coalesce-nvl-ifnull), которая заменит null на значение, которое мы передадим. Например, посмотрите, что возвращает запрос `select 1 + coalesce(null, 0)`\n",
        "\n",
        "Выясните, на какую зарплату в среднем может рассчитывать дата-сайентист с опытом работы от 3 до 6 лет. Результат округлите до целого числа. "
      ]
    },
    {
      "cell_type": "code",
      "execution_count": null,
      "id": "6a743d39-5204-48d3-8271-b9f88e68d40e",
      "metadata": {
        "id": "6a743d39-5204-48d3-8271-b9f88e68d40e"
      },
      "outputs": [],
      "source": [
        "# аналогичная схема предыдущих запросов, только исключим пропуски, для удобства дальнейшего вывода ответа для тестовой части введем наименование колонок (и по ним обратимся)\n",
        "query_6_6 = f'''\n",
        "SELECT \n",
        "   \texperience as experience,\n",
        "   \tround(avg(coalesce((salary_from + salary_to) / 2, salary_from, salary_to)), 0) as avg_ds\n",
        "FROM VACANCIES\n",
        "WHERE \t(name ILIKE '%data scientist%' or \n",
        "\t\tname ILIKE '%data science%' or \n",
        "\t\tname ILIKE '%исследователь данных%' or \n",
        "\t\t(name LIKE '%ML%' and \n",
        "\t\tname NOT LIKE '%HTML%') or\n",
        "\t\tname ILIKE '%machine learning%' or \n",
        "\t\tname ILIKE '%машинн%обучен%') and  \n",
        "        (salary_from is not NULL or salary_to is not NULL)\n",
        "GROUP BY experience\n",
        "'''"
      ]
    },
    {
      "cell_type": "code",
      "execution_count": null,
      "id": "aRIJ0mZEwU1_",
      "metadata": {
        "id": "aRIJ0mZEwU1_"
      },
      "outputs": [],
      "source": [
        "aw_6_6 = pd.read_sql_query(query_6_6, connection)\n",
        "display('Средняя з/п для дата-сайентиста с опытом работы от 3 до 6 лет: {}'.format(int(\n",
        "    aw_6_6[aw_6_6['experience'] == 'От 3 до 6 лет']['avg_ds']))\n",
        "    )"
      ]
    },
    {
      "attachments": {},
      "cell_type": "markdown",
      "id": "6a7892b4-4113-4746-adce-18aa2844f18e",
      "metadata": {
        "id": "6a7892b4-4113-4746-adce-18aa2844f18e"
      },
      "source": [
        "***"
      ]
    },
    {
      "attachments": {},
      "cell_type": "markdown",
      "id": "d920563b",
      "metadata": {},
      "source": [
        "Вывод:\n",
        "В ходе исследования мы узнали, что есть спрос на дата-сайнетисов, в том числе начинающих, также можно сделать вывод, что хоть и важен Python, требования к знанию SQL имеют огромный вес в общем количестве вакансий. оценили размер заработной платы, она очень сильно зависит от опыта работы специалиста. Не маловажным фактором являются ключевые навыки, довольно большое число их указано для DS в каждой вакансии."
      ]
    },
    {
      "attachments": {},
      "cell_type": "markdown",
      "id": "c0ED6fh7wiBT",
      "metadata": {
        "id": "c0ED6fh7wiBT"
      },
      "source": [
        "# Общий вывод по проекту"
      ]
    },
    {
      "attachments": {},
      "cell_type": "markdown",
      "id": "10515439",
      "metadata": {},
      "source": [
        "Общий вывод:\n",
        "Перед формирование общего вывода напомню поставленную задачу и точку взгляда на датасет:\n",
        "\n",
        "Мы представляем кадровое агентство, которое подбирает вакансии для IT-специалистов. Нам нужно оценить данные для построения модели машинного обучения, которая будет рекомендовать вакансии клиентам агентства, претендующим на позицию Data Scientist\n",
        "\n",
        "С учетом этого мы видим, что очень выжным являются навыки приобретенные специалистом, опыт их работы, желаемая з/п.\n",
        "Однако возможно высказать гипотезу по з/п, что это будет не критичныей показатель для junior-специалистов, т.к. уровень зарплаты растет по мере получения опыта"
      ]
    },
    {
      "cell_type": "code",
      "execution_count": null,
      "id": "h9B3BL-wwj18",
      "metadata": {
        "id": "h9B3BL-wwj18"
      },
      "outputs": [],
      "source": [
        "# подведем итог исследования, обобщите выводы\n",
        "# здесь можно (это будет плюсом) провести дополнительные исследования данных, сделать прогнозы, продумать варианты продолжения исследования"
      ]
    },
    {
      "cell_type": "code",
      "execution_count": null,
      "id": "614a1777",
      "metadata": {},
      "outputs": [],
      "source": [
        "import matplotlib.pyplot as plt\n",
        "import seaborn as sns\n",
        "\n",
        "fig, axes= plt.subplots(1, 2, figsize=(15, 5))\n",
        "sns.lineplot(x='experience', y='avg_ds', data=aw_6_6, ax=axes[0])\n",
        "sns.barplot(x='experience', y='count', data=aw_4_5, order=['Нет опыта', 'От 1 года до 3 лет', 'От 3 до 6 лет', 'Более 6 лет'], ax=axes[1])\n",
        "axes[0].set_title('График зависимости средней з/п от опыта для DS')\n",
        "axes[1].set_title('Количество вакансий по опыму работы')\n",
        "axes[0].grid(True)"
      ]
    },
    {
      "attachments": {},
      "cell_type": "markdown",
      "id": "93ee6c3e",
      "metadata": {},
      "source": [
        "Визуализация показывает, что самые востребованные это специалисты с опытом от 1 до 3х лет, но допольно большое количество востребовано без опыта. Сделаем еще запрос для сравнения показателей для DS и остальных вакансий:"
      ]
    },
    {
      "cell_type": "code",
      "execution_count": null,
      "id": "cb7d387f",
      "metadata": {},
      "outputs": [],
      "source": [
        "query_7_1 = f'''\n",
        "SELECT \n",
        "   \texperience as experience,\n",
        "   \tround(avg(coalesce((salary_from + salary_to) / 2, salary_from, salary_to)), 0) as avg_no_DS\n",
        "FROM VACANCIES\n",
        "WHERE \t(name NOT ILIKE '%data scientist%' or \n",
        "\t\tname NOT ILIKE '%data science%' or \n",
        "\t\tname NOT ILIKE '%исследователь данных%' or \n",
        "\t\t(name NOT LIKE '%ML%' and \n",
        "\t\tname NOT LIKE '%HTML%') or\n",
        "\t\tname NOT ILIKE '%machine learning%' or \n",
        "\t\tname NOT ILIKE '%машинн%обучен%') and  \n",
        "        (salary_from is not NULL or salary_to is not NULL)\n",
        "GROUP BY experience\n",
        "'''"
      ]
    },
    {
      "cell_type": "code",
      "execution_count": null,
      "id": "e4f7c1c9",
      "metadata": {},
      "outputs": [],
      "source": [
        "aw_7_1 = aw_6_6.merge(pd.read_sql_query(query_7_1, connection), how='left')\n",
        "aw_7_1['delta'] = aw_7_1['avg_ds'] / aw_7_1['avg_no_ds'] *100 - 100\n",
        "aw_7_1"
      ]
    },
    {
      "attachments": {},
      "cell_type": "markdown",
      "id": "cbaf8a16",
      "metadata": {},
      "source": [
        "Как видим, более, чем на 80% средние зарплаты для DS выше, чем для остальных групп\n",
        "\n",
        "Отвечая на вопрос: \"что из себя представляют данные и насколько они соответствуют целям проекта\"\n",
        "можно с уверенностью сказать, что они состоят из описательных, количественных и качественных данных, которые возможно использовать в DS модели для целей ML"
      ]
    },
    {
      "cell_type": "code",
      "execution_count": null,
      "id": "151f2028",
      "metadata": {},
      "outputs": [],
      "source": [
        "# не забываем закрыть соединение после окончания работы\n",
        "connection.close()"
      ]
    }
  ],
  "metadata": {
    "colab": {
      "collapsed_sections": [
        "8d62a9f3-f64e-4fe7-bdac-c4dffa16155e"
      ],
      "provenance": []
    },
    "kernelspec": {
      "display_name": "Python 3 (ipykernel)",
      "language": "python",
      "name": "python3"
    },
    "language_info": {
      "codemirror_mode": {
        "name": "ipython",
        "version": 3
      },
      "file_extension": ".py",
      "mimetype": "text/x-python",
      "name": "python",
      "nbconvert_exporter": "python",
      "pygments_lexer": "ipython3",
      "version": "3.9.10"
    }
  },
  "nbformat": 4,
  "nbformat_minor": 5
}
